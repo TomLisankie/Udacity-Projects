{
 "cells": [
  {
   "cell_type": "code",
   "execution_count": 19,
   "metadata": {},
   "outputs": [],
   "source": [
    "import pandas as pd\n",
    "import numpy as np\n",
    "import matplotlib.pyplot as plt\n",
    "import math\n",
    "%matplotlib inline"
   ]
  },
  {
   "cell_type": "markdown",
   "metadata": {},
   "source": [
    "Distribution of rhyme percentiles"
   ]
  },
  {
   "cell_type": "code",
   "execution_count": 20,
   "metadata": {},
   "outputs": [
    {
     "name": "stdout",
     "output_type": "stream",
     "text": [
      "[[0.47916667]\n",
      " [0.403125  ]\n",
      " [0.11875   ]\n",
      " ...\n",
      " [0.28      ]\n",
      " [0.2675    ]\n",
      " [0.54      ]]\n"
     ]
    }
   ],
   "source": [
    "# load the training data\n",
    "training_data = pd.read_csv(\"capstone_train_and_test/train.csv\")\n",
    "# take just the rhyme percentiles\n",
    "rhyme_percentiles = training_data.iloc[:, 2:].values\n",
    "print(rhyme_percentiles)"
   ]
  },
  {
   "cell_type": "code",
   "execution_count": 21,
   "metadata": {},
   "outputs": [
    {
     "name": "stdout",
     "output_type": "stream",
     "text": [
      "{'0.0': 192127, '0.1': 1117331, '0.2': 2289063, '0.3': 2279152, '0.4': 1159709, '0.5': 356762, '0.6': 84146, '0.7': 16621, '0.8': 3401, '0.9': 539, '1.0': 2148}\n"
     ]
    }
   ],
   "source": [
    "category_amounts = {\"0.0\" : 0, \"0.1\" : 0, \"0.2\" : 0, \"0.3\" : 0, \"0.4\" : 0, \"0.5\" : 0,\n",
    "                    \"0.6\" : 0, \"0.7\" : 0, \"0.8\" : 0, \"0.9\" : 0, \"1.0\" : 0}\n",
    "for rp in rhyme_percentiles:\n",
    "    floored = math.floor(rp[0]*10)/10\n",
    "    category_amounts[str(floored)] += 1\n",
    "\n",
    "print(category_amounts)"
   ]
  },
  {
   "cell_type": "code",
   "execution_count": 29,
   "metadata": {},
   "outputs": [
    {
     "data": {
      "text/plain": [
       "<Container object of 11 artists>"
      ]
     },
     "execution_count": 29,
     "metadata": {},
     "output_type": "execute_result"
    },
    {
     "data": {
      "image/png": "[encoded data removed]",
      "text/plain": [
       "<matplotlib.figure.Figure at 0x10d808278>"
      ]
     },
     "metadata": {},
     "output_type": "display_data"
    }
   ],
   "source": [
    "#plot\n",
    "width = 3\n",
    "categories = [x/10.0 for x in range(11)]\n",
    "plt.bar(categories, list(category_amounts.values()), width, color=\"blue\")"
   ]
  },
  {
   "cell_type": "code",
   "execution_count": null,
   "metadata": {},
   "outputs": [],
   "source": []
  }
 ],
 "metadata": {
  "kernelspec": {
   "display_name": "Python 3",
   "language": "python",
   "name": "python3"
  },
  "language_info": {
   "codemirror_mode": {
    "name": "ipython",
    "version": 3
   },
   "file_extension": ".py",
   "mimetype": "text/x-python",
   "name": "python",
   "nbconvert_exporter": "python",
   "pygments_lexer": "ipython3",
   "version": "3.6.4"
  }
 },
 "nbformat": 4,
 "nbformat_minor": 2
}
