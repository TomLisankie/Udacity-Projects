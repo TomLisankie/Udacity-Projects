{
 "cells": [
  {
   "cell_type": "markdown",
   "metadata": {},
   "source": [
    "# Preprocessing the Phoneme Sequences\n",
    "Here I have to process the phoneme sequences so that they can be fed into a Keras embedding layer"
   ]
  },
  {
   "cell_type": "code",
   "execution_count": 1,
   "metadata": {},
   "outputs": [
    {
     "name": "stderr",
     "output_type": "stream",
     "text": [
      "/home/ubuntu/anaconda3/lib/python3.6/site-packages/h5py/__init__.py:36: FutureWarning: Conversion of the second argument of issubdtype from `float` to `np.floating` is deprecated. In future, it will be treated as `np.float64 == np.dtype(float).type`.\n",
      "  from ._conv import register_converters as _register_converters\n",
      "Using TensorFlow backend.\n",
      "/home/ubuntu/anaconda3/lib/python3.6/site-packages/matplotlib/__init__.py:1067: UserWarning: Duplicate key in file \"/home/ubuntu/.config/matplotlib/matplotlibrc\", line #2\n",
      "  (fname, cnt))\n",
      "/home/ubuntu/anaconda3/lib/python3.6/site-packages/matplotlib/__init__.py:1067: UserWarning: Duplicate key in file \"/home/ubuntu/.config/matplotlib/matplotlibrc\", line #3\n",
      "  (fname, cnt))\n"
     ]
    },
    {
     "name": "stdout",
     "output_type": "stream",
     "text": [
      "[ 5  6  7 20  6  0]\n"
     ]
    }
   ],
   "source": [
    "#preprocessing for using whole-sequence embedding approach\n",
    "from keras.preprocessing.text import Tokenizer\n",
    "from keras.preprocessing.sequence import pad_sequences\n",
    "from keras.utils import to_categorical\n",
    "import numpy as np\n",
    "import csv\n",
    "import functools\n",
    "import pandas as pd\n",
    "import random\n",
    "\n",
    "random.seed(285)\n",
    "\n",
    "# need to read in csv file with pairs and labels\n",
    "train = pd.read_csv(\"capstone_train_and_test/new_train.csv\")\n",
    "vocabulary_size = 39 #aka number of different phonemes\n",
    "max_len = 6 #maximum size of a phoneme sequence. Average sequence is 6.34 phonemes\n",
    "tokenizer = Tokenizer(num_words = vocabulary_size)\n",
    "tokenizer.fit_on_texts(train[\"phonemic_transcriptions_1\"]) #finds number of tokens (phonemes in this case)\n",
    "train_sequences_1 = tokenizer.texts_to_sequences(train[\"phonemic_transcriptions_1\"]) #translates all words to lists of integers\n",
    "train_sequences_2 = tokenizer.texts_to_sequences(train[\"phonemic_transcriptions_2\"])\n",
    "train_data_1_concrete = pad_sequences(train_sequences_1, maxlen = max_len, padding = \"post\")\n",
    "train_data_2_concrete = pad_sequences(train_sequences_2, maxlen = max_len, padding = \"post\")\n",
    "print(train_data_1_concrete[10])"
   ]
  },
  {
   "cell_type": "code",
   "execution_count": 2,
   "metadata": {},
   "outputs": [],
   "source": [
    "raw_labels = train[\"rhyme_percentile\"]*10\n",
    "categorized_labels_concrete = to_categorical(raw_labels) # the `y` label we're trying to fit to\n",
    "train_data_1_concrete = list(train_data_1_concrete)\n",
    "train_data_2_concrete = list(train_data_2_concrete)\n",
    "categorized_labels_concrete = list(categorized_labels_concrete)"
   ]
  },
  {
   "cell_type": "code",
   "execution_count": 3,
   "metadata": {},
   "outputs": [],
   "source": [
    "#find info about lists\n"
   ]
  },
  {
   "cell_type": "code",
   "execution_count": 4,
   "metadata": {},
   "outputs": [
    {
     "name": "stdout",
     "output_type": "stream",
     "text": [
      "Reduce Data process starting\n",
      "192127\n",
      "1117331\n",
      "2289063\n",
      "2279152\n",
      "1159709\n",
      "356762\n",
      "84146\n",
      "16621\n",
      "3401\n",
      "539\n",
      "2148\n",
      "Marking for deletion starting\n",
      "Marking for deletion finished\n",
      "Making filtered list starting\n"
     ]
    },
    {
     "name": "stderr",
     "output_type": "stream",
     "text": [
      "/home/ubuntu/anaconda3/lib/python3.6/site-packages/ipykernel/__main__.py:32: FutureWarning: elementwise comparison failed; returning scalar instead, but in the future will perform elementwise comparison\n",
      "/home/ubuntu/anaconda3/lib/python3.6/site-packages/ipykernel/__main__.py:33: FutureWarning: elementwise comparison failed; returning scalar instead, but in the future will perform elementwise comparison\n"
     ]
    },
    {
     "name": "stdout",
     "output_type": "stream",
     "text": [
      "Making filtered list finished\n",
      "Reduce Data process finished\n",
      "50182\n",
      "50368\n",
      "49506\n",
      "49679\n",
      "50030\n",
      "50081\n",
      "49962\n",
      "16621\n",
      "3401\n",
      "539\n",
      "2148\n"
     ]
    }
   ],
   "source": [
    "train_data_1 = train_data_1_concrete\n",
    "train_data_2 = train_data_2_concrete\n",
    "categorized_labels = categorized_labels_concrete\n",
    "\n",
    "def reduce_data():\n",
    "    global train_data_1\n",
    "    global train_data_2\n",
    "    global raw_labels\n",
    "    global categorized_labels\n",
    "    \n",
    "    #get number of words in each category\n",
    "    print(\"Reduce Data process starting\")\n",
    "    category_amounts = [0 for i in range(11)]\n",
    "    for i in range(len(raw_labels)):\n",
    "        category_amounts[int(raw_labels[i])] += 1\n",
    "    for i in range(len(category_amounts)):\n",
    "        print(category_amounts[i])\n",
    "    \n",
    "    #go through each sample and remove based on fraction\n",
    "    ceiling = 50000\n",
    "    print(\"Marking for deletion starting\")\n",
    "    for i in range(len(raw_labels)):\n",
    "        random_num = random.random()\n",
    "        fraction = 1/(category_amounts[int(raw_labels[i])] / ceiling)\n",
    "        if random_num >= fraction:\n",
    "            # delete it\n",
    "            train_data_1[i] = \"\"\n",
    "            train_data_2[i] = \"\"\n",
    "            categorized_labels[i] = [0.]\n",
    "    print(\"Marking for deletion finished\")\n",
    "    print(\"Making filtered list starting\")\n",
    "    train_data_1 = [t for t in train_data_1 if t != \"\"]\n",
    "    train_data_2 = [t for t in train_data_2 if t != \"\"]\n",
    "    categorized_labels = [t for t in categorized_labels if sum(t) != 0.]\n",
    "    print(\"Making filtered list finished\")\n",
    "    print(\"Reduce Data process finished\")\n",
    "\n",
    "reduce_data()\n",
    "category_amounts = [0 for i in range(11)]\n",
    "for i in range(len(categorized_labels)):\n",
    "    current_label = categorized_labels[i]\n",
    "    index = 0\n",
    "    for u in range(len(current_label)):\n",
    "        if current_label[u] == 1:\n",
    "            index = u\n",
    "    category_amounts[index] += 1\n",
    "for i in range(len(category_amounts)):\n",
    "    print(category_amounts[i])"
   ]
  },
  {
   "cell_type": "code",
   "execution_count": 24,
   "metadata": {},
   "outputs": [
    {
     "name": "stdout",
     "output_type": "stream",
     "text": [
      "__________________________________________________________________________________________________\n",
      "Layer (type)                    Output Shape         Param #     Connected to                     \n",
      "==================================================================================================\n",
      "input_17 (InputLayer)           (100, 6)             0                                            \n",
      "__________________________________________________________________________________________________\n",
      "input_18 (InputLayer)           (100, 6)             0                                            \n",
      "__________________________________________________________________________________________________\n",
      "embedding_9 (Embedding)         (100, 6, 20)         780         input_17[0][0]                   \n",
      "                                                                 input_18[0][0]                   \n",
      "__________________________________________________________________________________________________\n",
      "conv1d_19 (Conv1D)              (100, 3, 50)         4050        embedding_9[0][0]                \n",
      "                                                                 embedding_9[1][0]                \n",
      "__________________________________________________________________________________________________\n",
      "conv1d_20 (Conv1D)              (100, 2, 100)        10100       conv1d_19[0][0]                  \n",
      "                                                                 conv1d_19[1][0]                  \n",
      "__________________________________________________________________________________________________\n",
      "concatenate_8 (Concatenate)     (100, 2, 200)        0           conv1d_20[0][0]                  \n",
      "                                                                 conv1d_20[1][0]                  \n",
      "__________________________________________________________________________________________________\n",
      "flatten_8 (Flatten)             (100, 400)           0           concatenate_8[0][0]              \n",
      "__________________________________________________________________________________________________\n",
      "dense_8 (Dense)                 (100, 11)            4411        flatten_8[0][0]                  \n",
      "==================================================================================================\n",
      "Total params: 19,341\n",
      "Trainable params: 19,341\n",
      "Non-trainable params: 0\n",
      "__________________________________________________________________________________________________\n"
     ]
    }
   ],
   "source": [
    "# build whole-sequence model\n",
    "from keras.models import Model\n",
    "from keras.layers import Input, Embedding, Flatten, Dense, Subtract, Conv1D, Concatenate\n",
    "\n",
    "batch_size = 100\n",
    "output_dim_size = 20\n",
    "\n",
    "input_1 = Input(batch_shape=(batch_size, 6))\n",
    "input_2 = Input(batch_shape=(batch_size, 6))\n",
    "embedding = Embedding(vocabulary_size, output_dim_size, input_length=max_len)\n",
    "conv1d_1 = Conv1D(50, 4, activation = \"relu\", strides=1)\n",
    "conv1d_2 = Conv1D(100, 2, activation = \"relu\", strides=1)\n",
    "# conv1d_3 = Conv1D(25, 2, activation = \"relu\", strides=1)\n",
    "\n",
    "embedding_1 = embedding(input_1)\n",
    "embedding_2 = embedding(input_2)\n",
    "conv1d_1_1 = conv1d_1(embedding_1)\n",
    "conv1d_1_2 = conv1d_1(embedding_2)\n",
    "conv1d_2_1 = conv1d_2(conv1d_1_1)\n",
    "conv1d_2_2 = conv1d_2(conv1d_1_2)\n",
    "# conv1d_3_1 = conv1d_3(conv1d_2_1)\n",
    "# conv1d_3_2 = conv1d_3(conv1d_2_2)\n",
    "merge_layer = Concatenate()([conv1d_2_1, conv1d_2_2])\n",
    "flatten = Flatten()(merge_layer)\n",
    "dense_output_layer = Dense(11, activation=\"softmax\", input_shape=(max_len*output_dim_size,))(flatten)\n",
    "\n",
    "whole_sequence_model = Model([input_1, input_2], dense_output_layer)\n",
    "whole_sequence_model.summary()"
   ]
  },
  {
   "cell_type": "code",
   "execution_count": 25,
   "metadata": {},
   "outputs": [
    {
     "name": "stdout",
     "output_type": "stream",
     "text": [
      "372517\n",
      "Train on 298000 samples, validate on 74500 samples\n",
      "Epoch 1/10\n",
      "298000/298000 [==============================] - 19s 63us/step - loss: 1.7597 - acc: 0.3228 - val_loss: 1.7295 - val_acc: 0.3351\n",
      "Epoch 2/10\n",
      "298000/298000 [==============================] - 18s 61us/step - loss: 1.7053 - acc: 0.3435 - val_loss: 1.6988 - val_acc: 0.3470\n",
      "Epoch 3/10\n",
      "298000/298000 [==============================] - 18s 61us/step - loss: 1.6857 - acc: 0.3523 - val_loss: 1.6870 - val_acc: 0.3514\n",
      "Epoch 4/10\n",
      "298000/298000 [==============================] - 18s 61us/step - loss: 1.6760 - acc: 0.3560 - val_loss: 1.6828 - val_acc: 0.3570\n",
      "Epoch 5/10\n",
      "298000/298000 [==============================] - 18s 61us/step - loss: 1.6712 - acc: 0.3589 - val_loss: 1.6867 - val_acc: 0.3540\n",
      "Epoch 6/10\n",
      "298000/298000 [==============================] - 18s 61us/step - loss: 1.6702 - acc: 0.3590 - val_loss: 1.6827 - val_acc: 0.3543\n",
      "Epoch 7/10\n",
      "298000/298000 [==============================] - 18s 61us/step - loss: 1.6712 - acc: 0.3603 - val_loss: 1.6862 - val_acc: 0.3569\n",
      "Epoch 8/10\n",
      "298000/298000 [==============================] - 18s 61us/step - loss: 1.6728 - acc: 0.3600 - val_loss: 1.6881 - val_acc: 0.3515\n",
      "Epoch 9/10\n",
      "298000/298000 [==============================] - 18s 61us/step - loss: 1.6739 - acc: 0.3587 - val_loss: 1.6878 - val_acc: 0.3539\n",
      "Epoch 10/10\n",
      "298000/298000 [==============================] - 18s 61us/step - loss: 1.6749 - acc: 0.3588 - val_loss: 1.7094 - val_acc: 0.3611\n"
     ]
    }
   ],
   "source": [
    "# Compile and fit model\n",
    "print(len(train_data_1))\n",
    "whole_sequence_model.compile(optimizer='rmsprop', loss='categorical_crossentropy', metrics=['acc'])\n",
    "the_model = whole_sequence_model.fit([np.array(train_data_1[:372500]), np.array(train_data_2[:372500])], \n",
    "                         np.array(categorized_labels[:372500]), \n",
    "                         epochs=10, batch_size=100, validation_split = 0.2)"
   ]
  },
  {
   "cell_type": "code",
   "execution_count": 7,
   "metadata": {},
   "outputs": [
    {
     "name": "stdout",
     "output_type": "stream",
     "text": [
      "Test data read in and processed\n"
     ]
    }
   ],
   "source": [
    "test = pd.read_csv(\"capstone_train_and_test/new_test.csv\")\n",
    "\n",
    "test_sequences_1 = tokenizer.texts_to_sequences(test[\"phonemic_transcriptions_1\"])\n",
    "test_sequences_2 = tokenizer.texts_to_sequences(test[\"phonemic_transcriptions_2\"])\n",
    "test_data_1_concrete = pad_sequences(test_sequences_1, maxlen = max_len, padding = \"post\")\n",
    "test_data_2_concrete = pad_sequences(test_sequences_2, maxlen = max_len, padding = \"post\")\n",
    "\n",
    "raw_labels_test = test[\"rhyme_percentile\"]*10\n",
    "\n",
    "categorized_labels_test_concrete = to_categorical(raw_labels_test) # the `y` label we're trying to fit to\n",
    "\n",
    "print(\"Test data read in and processed\")"
   ]
  },
  {
   "cell_type": "code",
   "execution_count": 26,
   "metadata": {},
   "outputs": [
    {
     "name": "stdout",
     "output_type": "stream",
     "text": [
      "1875251\n",
      "1875200/1875200 [==============================] - 36s 19us/step\n",
      "[1.686080244016983, 0.2969437940276638]\n"
     ]
    }
   ],
   "source": [
    "print(len(test_data_1_concrete))\n",
    "results = whole_sequence_model.evaluate([test_data_1_concrete[:1875200], test_data_2_concrete[:1875200]],\n",
    "                                        categorized_labels_test_concrete[:1875200], batch_size=100)\n",
    "print(results)"
   ]
  },
  {
   "cell_type": "code",
   "execution_count": null,
   "metadata": {},
   "outputs": [],
   "source": []
  }
 ],
 "metadata": {
  "kernelspec": {
   "display_name": "Python [conda env:anaconda3]",
   "language": "python",
   "name": "conda-env-anaconda3-py"
  },
  "language_info": {
   "codemirror_mode": {
    "name": "ipython",
    "version": 3
   },
   "file_extension": ".py",
   "mimetype": "text/x-python",
   "name": "python",
   "nbconvert_exporter": "python",
   "pygments_lexer": "ipython3",
   "version": "3.6.4"
  }
 },
 "nbformat": 4,
 "nbformat_minor": 2
}
