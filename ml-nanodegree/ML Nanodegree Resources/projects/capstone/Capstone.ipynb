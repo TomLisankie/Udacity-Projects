{
 "cells": [
  {
   "cell_type": "markdown",
   "metadata": {},
   "source": [
    "# Preprocessing the Phoneme Sequences\n",
    "Here I have to process the phoneme sequences so that they can be fed into a Keras embedding layer"
   ]
  },
  {
   "cell_type": "code",
   "execution_count": 23,
   "metadata": {},
   "outputs": [
    {
     "name": "stdout",
     "output_type": "stream",
     "text": [
      "[ 5  6  7 20  6  0  0  0  0  0  0  0  0  0  0  0  0]\n"
     ]
    }
   ],
   "source": [
    "#preprocessing for using whole-sequence embedding approach\n",
    "from keras.preprocessing.text import Tokenizer\n",
    "from keras.preprocessing.sequence import pad_sequences\n",
    "from keras.utils import to_categorical\n",
    "import numpy as np\n",
    "import csv\n",
    "import functools\n",
    "import pandas as pd\n",
    "import random\n",
    "import blist\n",
    "\n",
    "random.seed(285)\n",
    "\n",
    "# need to read in csv file with pairs and labels\n",
    "train = pd.read_csv(\"capstone_train_and_test/new_train.csv\")\n",
    "vocabulary_size = 39 #aka number of different phonemes\n",
    "max_len = 17 #maximum size of a phoneme sequence\n",
    "tokenizer = Tokenizer(num_words = vocabulary_size)\n",
    "tokenizer.fit_on_texts(train[\"phonemic_transcriptions_1\"]) #finds number of tokens (phonemes in this case)\n",
    "train_sequences_1 = tokenizer.texts_to_sequences(train[\"phonemic_transcriptions_1\"]) #translates all words to lists of integers\n",
    "train_sequences_2 = tokenizer.texts_to_sequences(train[\"phonemic_transcriptions_2\"])\n",
    "train_data_1 = pad_sequences(train_sequences_1, maxlen = max_len, padding = \"post\")\n",
    "train_data_2 = pad_sequences(train_sequences_2, maxlen = max_len, padding = \"post\")\n",
    "print(train_data_1[10])"
   ]
  },
  {
   "cell_type": "code",
   "execution_count": 24,
   "metadata": {},
   "outputs": [],
   "source": [
    "raw_labels = train[\"rhyme_percentile\"]*10\n",
    "categorized_labels = to_categorical(raw_labels) # the `y` label we're trying to fit to\n",
    "train_data_1 = list(train_data_1)\n",
    "train_data_2 = list(train_data_2)\n",
    "categorized_labels = list(categorized_labels)"
   ]
  },
  {
   "cell_type": "code",
   "execution_count": 25,
   "metadata": {},
   "outputs": [
    {
     "name": "stdout",
     "output_type": "stream",
     "text": [
      "[0. 1. 0. 0. 0. 0. 0. 0. 0. 0. 0.]\n"
     ]
    }
   ],
   "source": [
    "#find info about lists\n",
    "print(categorized_labels[10])"
   ]
  },
  {
   "cell_type": "code",
   "execution_count": 26,
   "metadata": {},
   "outputs": [
    {
     "name": "stdout",
     "output_type": "stream",
     "text": [
      "Reduce Data process starting\n",
      "192127\n",
      "1117331\n",
      "2289063\n",
      "2279152\n",
      "1159709\n",
      "356762\n",
      "84146\n",
      "16621\n",
      "3401\n",
      "539\n",
      "2148\n",
      "Marking for deletion starting\n",
      "Marking for deletion finished\n",
      "Making filtered list starting\n"
     ]
    },
    {
     "name": "stderr",
     "output_type": "stream",
     "text": [
      "/usr/local/lib/python3.6/site-packages/ipykernel_launcher.py:28: FutureWarning: elementwise comparison failed; returning scalar instead, but in the future will perform elementwise comparison\n",
      "/usr/local/lib/python3.6/site-packages/ipykernel_launcher.py:29: FutureWarning: elementwise comparison failed; returning scalar instead, but in the future will perform elementwise comparison\n"
     ]
    },
    {
     "name": "stdout",
     "output_type": "stream",
     "text": [
      "Making filtered list finished\n",
      "Reduce Data process finished\n",
      "50182\n",
      "50368\n",
      "49506\n",
      "49679\n",
      "50030\n",
      "50081\n",
      "49962\n",
      "16621\n",
      "3401\n",
      "539\n",
      "2148\n"
     ]
    }
   ],
   "source": [
    "def reduce_data():\n",
    "    global train_data_1\n",
    "    global train_data_2\n",
    "    global raw_labels\n",
    "    global categorized_labels\n",
    "    \n",
    "    #get number of words in each category\n",
    "    print(\"Reduce Data process starting\")\n",
    "    category_amounts = [0 for i in range(11)]\n",
    "    for i in range(len(raw_labels)):\n",
    "        category_amounts[int(raw_labels[i])] += 1\n",
    "    for i in range(len(category_amounts)):\n",
    "        print(category_amounts[i])\n",
    "    \n",
    "    #go through each sample and remove based on fraction\n",
    "    ceiling = 50000\n",
    "    print(\"Marking for deletion starting\")\n",
    "    for i in range(len(raw_labels)):\n",
    "        random_num = random.random()\n",
    "        fraction = 1/(category_amounts[int(raw_labels[i])] / ceiling)\n",
    "        if random_num >= fraction:\n",
    "            # delete it\n",
    "            train_data_1[i] = \"\"\n",
    "            train_data_2[i] = \"\"\n",
    "            categorized_labels[i] = [0.]\n",
    "    print(\"Marking for deletion finished\")\n",
    "    print(\"Making filtered list starting\")\n",
    "    train_data_1 = [t for t in train_data_1 if t != \"\"]\n",
    "    train_data_2 = [t for t in train_data_2 if t != \"\"]\n",
    "    categorized_labels = [t for t in categorized_labels if sum(t) != 0.]\n",
    "    print(\"Making filtered list finished\")\n",
    "    print(\"Reduce Data process finished\")\n",
    "\n",
    "reduce_data()\n",
    "category_amounts = [0 for i in range(11)]\n",
    "for i in range(len(categorized_labels)):\n",
    "    current_label = categorized_labels[i]\n",
    "    index = 0\n",
    "    for u in range(len(current_label)):\n",
    "        if current_label[u] == 1:\n",
    "            index = u\n",
    "    category_amounts[index] += 1\n",
    "for i in range(len(category_amounts)):\n",
    "    print(category_amounts[i])"
   ]
  },
  {
   "cell_type": "code",
   "execution_count": 42,
   "metadata": {},
   "outputs": [
    {
     "name": "stdout",
     "output_type": "stream",
     "text": [
      "__________________________________________________________________________________________________\n",
      "Layer (type)                    Output Shape         Param #     Connected to                     \n",
      "==================================================================================================\n",
      "input_11 (InputLayer)           (1000, 17)           0                                            \n",
      "__________________________________________________________________________________________________\n",
      "input_12 (InputLayer)           (1000, 17)           0                                            \n",
      "__________________________________________________________________________________________________\n",
      "embedding_6 (Embedding)         (1000, 17, 20)       780         input_11[0][0]                   \n",
      "                                                                 input_12[0][0]                   \n",
      "__________________________________________________________________________________________________\n",
      "subtract_6 (Subtract)           (1000, 17, 20)       0           embedding_6[0][0]                \n",
      "                                                                 embedding_6[1][0]                \n",
      "__________________________________________________________________________________________________\n",
      "flatten_6 (Flatten)             (1000, 340)          0           subtract_6[0][0]                 \n",
      "__________________________________________________________________________________________________\n",
      "dense_6 (Dense)                 (1000, 11)           3751        flatten_6[0][0]                  \n",
      "==================================================================================================\n",
      "Total params: 4,531\n",
      "Trainable params: 4,531\n",
      "Non-trainable params: 0\n",
      "__________________________________________________________________________________________________\n"
     ]
    }
   ],
   "source": [
    "# build whole-sequence model\n",
    "from keras.models import Model\n",
    "from keras.layers import Input, Embedding, Subtract, Flatten, Dense\n",
    "\n",
    "output_dim_size = 20\n",
    "\n",
    "input_1 = Input(batch_shape=(1000, 17))\n",
    "input_2 = Input(batch_shape=(1000, 17))\n",
    "embedding = Embedding(vocabulary_size, output_dim_size, input_length=max_len)\n",
    "\n",
    "embedding_1 = embedding(input_1)\n",
    "embedding_2 = embedding(input_2)\n",
    "merge_layer = Subtract()([embedding_1, embedding_2])\n",
    "flatten = Flatten()(merge_layer)\n",
    "dense_output_layer = Dense(11, activation=\"softmax\", input_shape=(max_len*output_dim_size,))(flatten)\n",
    "\n",
    "whole_sequence_model = Model([input_1, input_2], dense_output_layer)\n",
    "whole_sequence_model.summary()"
   ]
  },
  {
   "cell_type": "code",
   "execution_count": 43,
   "metadata": {},
   "outputs": [
    {
     "name": "stdout",
     "output_type": "stream",
     "text": [
      "Train on 6000000 samples, validate on 1500000 samples\n",
      "Epoch 1/20\n",
      "6000000/6000000 [==============================] - 103s 17us/step - loss: 1.6764 - acc: 0.3077 - mean_absolute_error: 0.1422 - val_loss: 1.5976 - val_acc: 0.3153 - val_mean_absolute_error: 0.1387\n",
      "Epoch 2/20\n",
      "6000000/6000000 [==============================] - 99s 16us/step - loss: 1.5958 - acc: 0.3154 - mean_absolute_error: 0.1386 - val_loss: 1.5968 - val_acc: 0.3147 - val_mean_absolute_error: 0.1386\n",
      "Epoch 3/20\n",
      "6000000/6000000 [==============================] - 103s 17us/step - loss: 1.5954 - acc: 0.3155 - mean_absolute_error: 0.1386 - val_loss: 1.5966 - val_acc: 0.3171 - val_mean_absolute_error: 0.1385\n",
      "Epoch 4/20\n",
      "6000000/6000000 [==============================] - 105s 17us/step - loss: 1.5952 - acc: 0.3156 - mean_absolute_error: 0.1386 - val_loss: 1.5965 - val_acc: 0.3156 - val_mean_absolute_error: 0.1386\n",
      "Epoch 5/20\n",
      "6000000/6000000 [==============================] - 106s 18us/step - loss: 1.5952 - acc: 0.3158 - mean_absolute_error: 0.1386 - val_loss: 1.5966 - val_acc: 0.3146 - val_mean_absolute_error: 0.1387\n",
      "Epoch 6/20\n",
      "6000000/6000000 [==============================] - 62s 10us/step - loss: 1.5951 - acc: 0.3159 - mean_absolute_error: 0.1386 - val_loss: 1.5965 - val_acc: 0.3162 - val_mean_absolute_error: 0.1385\n",
      "Epoch 7/20\n",
      "6000000/6000000 [==============================] - 61s 10us/step - loss: 1.5951 - acc: 0.3158 - mean_absolute_error: 0.1386 - val_loss: 1.5965 - val_acc: 0.3159 - val_mean_absolute_error: 0.1386\n",
      "Epoch 8/20\n",
      "6000000/6000000 [==============================] - 60s 10us/step - loss: 1.5951 - acc: 0.3158 - mean_absolute_error: 0.1386 - val_loss: 1.5965 - val_acc: 0.3157 - val_mean_absolute_error: 0.1386\n",
      "Epoch 9/20\n",
      "6000000/6000000 [==============================] - 69s 12us/step - loss: 1.5951 - acc: 0.3159 - mean_absolute_error: 0.1386 - val_loss: 1.5964 - val_acc: 0.3158 - val_mean_absolute_error: 0.1386\n",
      "Epoch 10/20\n",
      "6000000/6000000 [==============================] - 82s 14us/step - loss: 1.5950 - acc: 0.3158 - mean_absolute_error: 0.1386 - val_loss: 1.5963 - val_acc: 0.3161 - val_mean_absolute_error: 0.1386\n",
      "Epoch 11/20\n",
      "6000000/6000000 [==============================] - 82s 14us/step - loss: 1.5950 - acc: 0.3160 - mean_absolute_error: 0.1386 - val_loss: 1.5965 - val_acc: 0.3152 - val_mean_absolute_error: 0.1386\n",
      "Epoch 12/20\n",
      "6000000/6000000 [==============================] - 86s 14us/step - loss: 1.5950 - acc: 0.3157 - mean_absolute_error: 0.1386 - val_loss: 1.5964 - val_acc: 0.3160 - val_mean_absolute_error: 0.1387\n",
      "Epoch 13/20\n",
      "6000000/6000000 [==============================] - 56s 9us/step - loss: 1.5950 - acc: 0.3159 - mean_absolute_error: 0.1386 - val_loss: 1.5964 - val_acc: 0.3163 - val_mean_absolute_error: 0.1386\n",
      "Epoch 14/20\n",
      "6000000/6000000 [==============================] - 56s 9us/step - loss: 1.5950 - acc: 0.3161 - mean_absolute_error: 0.1386 - val_loss: 1.5964 - val_acc: 0.3157 - val_mean_absolute_error: 0.1386\n",
      "Epoch 15/20\n",
      "6000000/6000000 [==============================] - 57s 9us/step - loss: 1.5950 - acc: 0.3160 - mean_absolute_error: 0.1386 - val_loss: 1.5963 - val_acc: 0.3163 - val_mean_absolute_error: 0.1386\n",
      "Epoch 16/20\n",
      "6000000/6000000 [==============================] - 57s 9us/step - loss: 1.5950 - acc: 0.3160 - mean_absolute_error: 0.1386 - val_loss: 1.5964 - val_acc: 0.3158 - val_mean_absolute_error: 0.1386\n",
      "Epoch 17/20\n",
      "6000000/6000000 [==============================] - 56s 9us/step - loss: 1.5950 - acc: 0.3160 - mean_absolute_error: 0.1386 - val_loss: 1.5963 - val_acc: 0.3157 - val_mean_absolute_error: 0.1386\n",
      "Epoch 18/20\n",
      "6000000/6000000 [==============================] - 64s 11us/step - loss: 1.5950 - acc: 0.3158 - mean_absolute_error: 0.1386 - val_loss: 1.5965 - val_acc: 0.3163 - val_mean_absolute_error: 0.1386\n",
      "Epoch 19/20\n",
      "6000000/6000000 [==============================] - 80s 13us/step - loss: 1.5950 - acc: 0.3159 - mean_absolute_error: 0.1386 - val_loss: 1.5963 - val_acc: 0.3163 - val_mean_absolute_error: 0.1386\n",
      "Epoch 20/20\n",
      "6000000/6000000 [==============================] - 78s 13us/step - loss: 1.5950 - acc: 0.3162 - mean_absolute_error: 0.1386 - val_loss: 1.5963 - val_acc: 0.3156 - val_mean_absolute_error: 0.1386\n"
     ]
    },
    {
     "data": {
      "text/plain": [
       "<keras.callbacks.History at 0x11b6079e8>"
      ]
     },
     "execution_count": 43,
     "metadata": {},
     "output_type": "execute_result"
    }
   ],
   "source": [
    "# Compile and fit model\n",
    "whole_sequence_model.compile(optimizer='rmsprop', loss='categorical_crossentropy', metrics=['acc'])\n",
    "whole_sequence_model.fit([train_data_1[:7500000], train_data_2[:7500000]], \n",
    "                         categorized_labels[:7500000], \n",
    "                         epochs=20, batch_size=1000, validation_split = 0.2)"
   ]
  },
  {
   "cell_type": "code",
   "execution_count": 11,
   "metadata": {},
   "outputs": [
    {
     "name": "stdout",
     "output_type": "stream",
     "text": [
      "7500999\n",
      "[24, 14, 2, 10, 19, 11]\n",
      "[24 14  2 10 19 11  0  0  0  0  0  0  0  0  0  0  0]\n"
     ]
    }
   ],
   "source": [
    "#preprocessing if using phoneme embedding approach\n",
    "# preprocessing to make the actual phoneme embedding\n",
    "\n",
    "#tokenization\n",
    "words = []\n",
    "with open(\"transcriptions_data.csv\") as csvfile:\n",
    "    reader = csv.reader(csvfile)\n",
    "    for row in reader:\n",
    "        words.append(row)\n",
    "words = np.array(words).flatten()\n",
    "\n",
    "vocabulary_size = 39 #aka number of different phonemes\n",
    "max_len = 17 #maximum size of a phoneme sequence\n",
    "tokenizer = Tokenizer(num_words = vocabulary_size)\n",
    "tokenizer.fit_on_texts(words) #finds number of tokens (phonemes in this case)\n",
    "sequences = tokenizer.texts_to_sequences(words) #translates all words to lists of integers\n",
    "print(sequences[10])\n",
    "data = pad_sequences(sequences, maxlen = max_len, padding = \"post\")\n",
    "print(data[10])\n",
    "\n",
    "#okay, so I have my sequences preprocessed\n",
    "# wait, actually I need to read in each column of all the phoneme sequences matched up together and their categorizations and make the categorizations Keras-compliant"
   ]
  },
  {
   "cell_type": "code",
   "execution_count": 24,
   "metadata": {},
   "outputs": [],
   "source": [
    "#build phoneme embedding"
   ]
  },
  {
   "cell_type": "code",
   "execution_count": null,
   "metadata": {},
   "outputs": [],
   "source": [
    "#use phoneme embedding in new model"
   ]
  }
 ],
 "metadata": {
  "kernelspec": {
   "display_name": "Python 3",
   "language": "python",
   "name": "python3"
  },
  "language_info": {
   "codemirror_mode": {
    "name": "ipython",
    "version": 3
   },
   "file_extension": ".py",
   "mimetype": "text/x-python",
   "name": "python",
   "nbconvert_exporter": "python",
   "pygments_lexer": "ipython3",
   "version": "3.6.4"
  }
 },
 "nbformat": 4,
 "nbformat_minor": 2
}
