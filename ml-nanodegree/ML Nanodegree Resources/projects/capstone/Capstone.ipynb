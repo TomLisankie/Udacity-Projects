{
 "cells": [
  {
   "cell_type": "markdown",
   "metadata": {},
   "source": [
    "# Preprocessing the Phoneme Sequences\n",
    "Here I have to process the phoneme sequences so that they can be fed into a Keras embedding layer"
   ]
  },
  {
   "cell_type": "code",
   "execution_count": 77,
   "metadata": {},
   "outputs": [
    {
     "name": "stdout",
     "output_type": "stream",
     "text": [
      "[ 8 15  2 31 12 12  0  0  0  0  0  0  0  0  0  0  0]\n"
     ]
    }
   ],
   "source": [
    "#preprocessing for using whole-sequence embedding approach\n",
    "from keras.preprocessing.text import Tokenizer\n",
    "from keras.preprocessing.sequence import pad_sequences\n",
    "from keras.utils import to_categorical\n",
    "import numpy as np\n",
    "import csv\n",
    "import functools\n",
    "import pandas as pd\n",
    "import random\n",
    "import blist\n",
    "\n",
    "random.seed(285)\n",
    "\n",
    "# need to read in csv file with pairs and labels\n",
    "train = pd.read_csv(\"capstone_train_and_test/new_train.csv\")\n",
    "vocabulary_size = 39 #aka number of different phonemes\n",
    "max_len = 17 #maximum size of a phoneme sequence\n",
    "tokenizer = Tokenizer(num_words = vocabulary_size)\n",
    "tokenizer.fit_on_texts(train[\"phonemic_transcriptions_1\"]) #finds number of tokens (phonemes in this case)\n",
    "train_sequences_1 = tokenizer.texts_to_sequences(train[\"phonemic_transcriptions_1\"]) #translates all words to lists of integers\n",
    "train_sequences_2 = tokenizer.texts_to_sequences(train[\"phonemic_transcriptions_2\"])\n",
    "train_data_1_concrete = pad_sequences(train_sequences_1, maxlen = max_len, padding = \"post\")\n",
    "train_data_2_concrete = pad_sequences(train_sequences_2, maxlen = max_len, padding = \"post\")\n",
    "print(train_data_1[10])"
   ]
  },
  {
   "cell_type": "code",
   "execution_count": 78,
   "metadata": {},
   "outputs": [],
   "source": [
    "raw_labels = train[\"rhyme_percentile\"]*10\n",
    "categorized_labels = to_categorical(raw_labels) # the `y` label we're trying to fit to\n",
    "train_data_1_concrete = list(train_data_1)\n",
    "train_data_2_concrete = list(train_data_2)\n",
    "categorized_labels_concrete = list(categorized_labels)"
   ]
  },
  {
   "cell_type": "code",
   "execution_count": 79,
   "metadata": {},
   "outputs": [
    {
     "name": "stdout",
     "output_type": "stream",
     "text": [
      "[0. 1. 0. 0. 0. 0. 0. 0. 0. 0. 0.]\n"
     ]
    }
   ],
   "source": [
    "#find info about lists\n",
    "print(categorized_labels[10])"
   ]
  },
  {
   "cell_type": "code",
   "execution_count": 81,
   "metadata": {},
   "outputs": [
    {
     "name": "stdout",
     "output_type": "stream",
     "text": [
      "Reduce Data process starting\n",
      "192127\n",
      "1117331\n",
      "2289063\n",
      "2279152\n",
      "1159709\n",
      "356762\n",
      "84146\n",
      "16621\n",
      "3401\n",
      "539\n",
      "2148\n",
      "Marking for deletion starting\n"
     ]
    },
    {
     "ename": "IndexError",
     "evalue": "list assignment index out of range",
     "output_type": "error",
     "traceback": [
      "\u001b[0;31m---------------------------------------------------------------------------\u001b[0m",
      "\u001b[0;31mIndexError\u001b[0m                                Traceback (most recent call last)",
      "\u001b[0;32m<ipython-input-81-4cc5fe15e5a2>\u001b[0m in \u001b[0;36m<module>\u001b[0;34m()\u001b[0m\n\u001b[1;32m     36\u001b[0m     \u001b[0mprint\u001b[0m\u001b[0;34m(\u001b[0m\u001b[0;34m\"Reduce Data process finished\"\u001b[0m\u001b[0;34m)\u001b[0m\u001b[0;34m\u001b[0m\u001b[0m\n\u001b[1;32m     37\u001b[0m \u001b[0;34m\u001b[0m\u001b[0m\n\u001b[0;32m---> 38\u001b[0;31m \u001b[0mreduce_data\u001b[0m\u001b[0;34m(\u001b[0m\u001b[0;34m)\u001b[0m\u001b[0;34m\u001b[0m\u001b[0m\n\u001b[0m\u001b[1;32m     39\u001b[0m \u001b[0mcategory_amounts\u001b[0m \u001b[0;34m=\u001b[0m \u001b[0;34m[\u001b[0m\u001b[0;36m0\u001b[0m \u001b[0;32mfor\u001b[0m \u001b[0mi\u001b[0m \u001b[0;32min\u001b[0m \u001b[0mrange\u001b[0m\u001b[0;34m(\u001b[0m\u001b[0;36m11\u001b[0m\u001b[0;34m)\u001b[0m\u001b[0;34m]\u001b[0m\u001b[0;34m\u001b[0m\u001b[0m\n\u001b[1;32m     40\u001b[0m \u001b[0;32mfor\u001b[0m \u001b[0mi\u001b[0m \u001b[0;32min\u001b[0m \u001b[0mrange\u001b[0m\u001b[0;34m(\u001b[0m\u001b[0mlen\u001b[0m\u001b[0;34m(\u001b[0m\u001b[0mcategorized_labels\u001b[0m\u001b[0;34m)\u001b[0m\u001b[0;34m)\u001b[0m\u001b[0;34m:\u001b[0m\u001b[0;34m\u001b[0m\u001b[0m\n",
      "\u001b[0;32m<ipython-input-81-4cc5fe15e5a2>\u001b[0m in \u001b[0;36mreduce_data\u001b[0;34m()\u001b[0m\n\u001b[1;32m     25\u001b[0m         \u001b[0;32mif\u001b[0m \u001b[0mrandom_num\u001b[0m \u001b[0;34m>=\u001b[0m \u001b[0mfraction\u001b[0m\u001b[0;34m:\u001b[0m\u001b[0;34m\u001b[0m\u001b[0m\n\u001b[1;32m     26\u001b[0m             \u001b[0;31m# delete it\u001b[0m\u001b[0;34m\u001b[0m\u001b[0;34m\u001b[0m\u001b[0m\n\u001b[0;32m---> 27\u001b[0;31m             \u001b[0mtrain_data_1\u001b[0m\u001b[0;34m[\u001b[0m\u001b[0mi\u001b[0m\u001b[0;34m]\u001b[0m \u001b[0;34m=\u001b[0m \u001b[0;34m\"\"\u001b[0m\u001b[0;34m\u001b[0m\u001b[0m\n\u001b[0m\u001b[1;32m     28\u001b[0m             \u001b[0mtrain_data_2\u001b[0m\u001b[0;34m[\u001b[0m\u001b[0mi\u001b[0m\u001b[0;34m]\u001b[0m \u001b[0;34m=\u001b[0m \u001b[0;34m\"\"\u001b[0m\u001b[0;34m\u001b[0m\u001b[0m\n\u001b[1;32m     29\u001b[0m             \u001b[0mcategorized_labels\u001b[0m\u001b[0;34m[\u001b[0m\u001b[0mi\u001b[0m\u001b[0;34m]\u001b[0m \u001b[0;34m=\u001b[0m \u001b[0;34m[\u001b[0m\u001b[0;36m0.\u001b[0m\u001b[0;34m]\u001b[0m\u001b[0;34m\u001b[0m\u001b[0m\n",
      "\u001b[0;31mIndexError\u001b[0m: list assignment index out of range"
     ]
    }
   ],
   "source": [
    "train_data_1 = train_data_1_concrete\n",
    "train_data_2 = train_data_2_concrete\n",
    "categorized_labels = categorized_labels_concrete\n",
    "\n",
    "def reduce_data():\n",
    "    global train_data_1\n",
    "    global train_data_2\n",
    "    global raw_labels\n",
    "    global categorized_labels\n",
    "    \n",
    "    #get number of words in each category\n",
    "    print(\"Reduce Data process starting\")\n",
    "    category_amounts = [0 for i in range(11)]\n",
    "    for i in range(len(raw_labels)):\n",
    "        category_amounts[int(raw_labels[i])] += 1\n",
    "    for i in range(len(category_amounts)):\n",
    "        print(category_amounts[i])\n",
    "    \n",
    "    #go through each sample and remove based on fraction\n",
    "    ceiling = 50000\n",
    "    print(\"Marking for deletion starting\")\n",
    "    for i in range(len(raw_labels)):\n",
    "        random_num = random.random()\n",
    "        fraction = 1/(category_amounts[int(raw_labels[i])] / ceiling)\n",
    "        if random_num >= fraction:\n",
    "            # delete it\n",
    "            train_data_1[i] = \"\"\n",
    "            train_data_2[i] = \"\"\n",
    "            categorized_labels[i] = [0.]\n",
    "    print(\"Marking for deletion finished\")\n",
    "    print(\"Making filtered list starting\")\n",
    "    train_data_1 = [t for t in train_data_1 if t != \"\"]\n",
    "    train_data_2 = [t for t in train_data_2 if t != \"\"]\n",
    "    categorized_labels = [t for t in categorized_labels if sum(t) != 0.]\n",
    "    print(\"Making filtered list finished\")\n",
    "    print(\"Reduce Data process finished\")\n",
    "\n",
    "reduce_data()\n",
    "category_amounts = [0 for i in range(11)]\n",
    "for i in range(len(categorized_labels)):\n",
    "    current_label = categorized_labels[i]\n",
    "    index = 0\n",
    "    for u in range(len(current_label)):\n",
    "        if current_label[u] == 1:\n",
    "            index = u\n",
    "    category_amounts[index] += 1\n",
    "for i in range(len(category_amounts)):\n",
    "    print(category_amounts[i])"
   ]
  },
  {
   "cell_type": "code",
   "execution_count": null,
   "metadata": {},
   "outputs": [],
   "source": [
    "# build whole-sequence model\n",
    "from keras.models import Model\n",
    "from keras.layers import Input, Embedding, Flatten, Dense, Subtract, Conv1D\n",
    "\n",
    "output_dim_size = 20\n",
    "\n",
    "input_1 = Input(batch_shape=(100, 17))\n",
    "input_2 = Input(batch_shape=(100, 17))\n",
    "embedding = Embedding(vocabulary_size, output_dim_size, input_length=max_len)\n",
    "conv1d_1 = Conv1D(100, 3, activation = \"relu\", strides=2, input_shape=(17,20))\n",
    "conv1d_2 = Conv1D(100, 3, activation = \"relu\", strides=2, input_shape=(8,100))\n",
    "\n",
    "embedding_1 = embedding(input_1)\n",
    "embedding_2 = embedding(input_2)\n",
    "conv1d_1_1 = conv1d_1(embedding_1)\n",
    "conv1d_1_2 = conv1d_1(embedding_2)\n",
    "conv1d_2_1 = conv1d_2(conv1d_1_1)\n",
    "conv1d_2_2 = conv1d_2(conv1d_1_2)\n",
    "merge_layer = Subtract()([conv1d_2_1, conv1d_2_2])\n",
    "flatten = Flatten()(merge_layer)\n",
    "dense_output_layer = Dense(11, activation=\"softmax\", input_shape=(max_len*output_dim_size,))(flatten)\n",
    "\n",
    "whole_sequence_model = Model([input_1, input_2], dense_output_layer)\n",
    "whole_sequence_model.summary()"
   ]
  },
  {
   "cell_type": "code",
   "execution_count": null,
   "metadata": {},
   "outputs": [],
   "source": [
    "# Compile and fit model\n",
    "print(len(train_data_1))\n",
    "whole_sequence_model.compile(optimizer='rmsprop', loss='categorical_crossentropy', metrics=['acc'])\n",
    "whole_sequence_model.fit([np.array(train_data_1[:706000]), np.array(train_data_2[:706000])], \n",
    "                         np.array(categorized_labels[:706000]), \n",
    "                         epochs=10, batch_size=100, validation_split = 0.2)"
   ]
  },
  {
   "cell_type": "code",
   "execution_count": 11,
   "metadata": {},
   "outputs": [
    {
     "name": "stdout",
     "output_type": "stream",
     "text": [
      "7500999\n",
      "[24, 14, 2, 10, 19, 11]\n",
      "[24 14  2 10 19 11  0  0  0  0  0  0  0  0  0  0  0]\n"
     ]
    }
   ],
   "source": [
    "#preprocessing if using phoneme embedding approach\n",
    "# preprocessing to make the actual phoneme embedding\n",
    "\n",
    "#tokenization\n",
    "words = []\n",
    "with open(\"transcriptions_data.csv\") as csvfile:\n",
    "    reader = csv.reader(csvfile)\n",
    "    for row in reader:\n",
    "        words.append(row)\n",
    "words = np.array(words).flatten()\n",
    "\n",
    "vocabulary_size = 39 #aka number of different phonemes\n",
    "max_len = 17 #maximum size of a phoneme sequence\n",
    "tokenizer = Tokenizer(num_words = vocabulary_size)\n",
    "tokenizer.fit_on_texts(words) #finds number of tokens (phonemes in this case)\n",
    "sequences = tokenizer.texts_to_sequences(words) #translates all words to lists of integers\n",
    "print(sequences[10])\n",
    "data = pad_sequences(sequences, maxlen = max_len, padding = \"post\")\n",
    "print(data[10])\n",
    "\n",
    "#okay, so I have my sequences preprocessed\n",
    "# wait, actually I need to read in each column of all the phoneme sequences matched up together and their categorizations and make the categorizations Keras-compliant"
   ]
  },
  {
   "cell_type": "code",
   "execution_count": 24,
   "metadata": {},
   "outputs": [],
   "source": [
    "#build phoneme embedding"
   ]
  },
  {
   "cell_type": "code",
   "execution_count": null,
   "metadata": {},
   "outputs": [],
   "source": [
    "#use phoneme embedding in new model"
   ]
  }
 ],
 "metadata": {
  "kernelspec": {
   "display_name": "Python 3",
   "language": "python",
   "name": "python3"
  },
  "language_info": {
   "codemirror_mode": {
    "name": "ipython",
    "version": 3
   },
   "file_extension": ".py",
   "mimetype": "text/x-python",
   "name": "python",
   "nbconvert_exporter": "python",
   "pygments_lexer": "ipython3",
   "version": "3.6.4"
  }
 },
 "nbformat": 4,
 "nbformat_minor": 2
}
